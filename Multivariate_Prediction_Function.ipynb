{
  "nbformat": 4,
  "nbformat_minor": 0,
  "metadata": {
    "colab": {
      "name": "Multivariate Prediction Function.ipynb",
      "provenance": [],
      "toc_visible": true,
      "authorship_tag": "ABX9TyN8DYIMXg8mBswli0R6oKLz",
      "include_colab_link": true
    },
    "kernelspec": {
      "name": "python3",
      "display_name": "Python 3"
    }
  },
  "cells": [
    {
      "cell_type": "markdown",
      "metadata": {
        "id": "view-in-github",
        "colab_type": "text"
      },
      "source": [
        "<a href=\"https://colab.research.google.com/github/kjsampler/Assessment-1/blob/master/Multivariate_Prediction_Function.ipynb\" target=\"_parent\"><img src=\"https://colab.research.google.com/assets/colab-badge.svg\" alt=\"Open In Colab\"/></a>"
      ]
    },
    {
      "cell_type": "markdown",
      "metadata": {
        "id": "hbr7W3qD2uWz"
      },
      "source": [
        "Rather than clutter another notebook, I've decided to show the process of writing the multivariate prediction function in its own seperate notebook. This will allow for more organization and a better ability to explain the process. "
      ]
    },
    {
      "cell_type": "code",
      "metadata": {
        "id": "XKll2VX9AzFJ"
      },
      "source": [
        "import pandas as pd\r\n",
        "import warnings\r\n",
        "warnings.filterwarnings('ignore')\r\n",
        "import matplotlib.pyplot as plt\r\n",
        "%matplotlib inline\r\n",
        "import seaborn as sns\r\n",
        "from pandas.plotting import table\r\n",
        "from sklearn.preprocessing import MinMaxScaler\r\n",
        "from sklearn.model_selection import train_test_split\r\n",
        "import time\r\n",
        "import datetime\r\n",
        "from sklearn.metrics import mean_squared_error\r\n",
        "from keras.models import Sequential, load_model\r\n",
        "from keras.layers import Dense, LSTM, Dropout\r\n",
        "import numpy as np\r\n",
        "import tensorflow as tf"
      ],
      "execution_count": 18,
      "outputs": []
    },
    {
      "cell_type": "markdown",
      "metadata": {
        "id": "rEvx9gHWBUgJ"
      },
      "source": [
        "# Import Data and Format"
      ]
    },
    {
      "cell_type": "code",
      "metadata": {
        "colab": {
          "base_uri": "https://localhost:8080/"
        },
        "id": "ai7_cJj6BDC8",
        "outputId": "c9d84520-9aed-4ee1-860e-5b317493414d"
      },
      "source": [
        "from google.colab import drive\r\n",
        "drive.mount('/content/drive')"
      ],
      "execution_count": 3,
      "outputs": [
        {
          "output_type": "stream",
          "text": [
            "Mounted at /content/drive\n"
          ],
          "name": "stdout"
        }
      ]
    },
    {
      "cell_type": "code",
      "metadata": {
        "id": "RLmItmyHBEk-"
      },
      "source": [
        "X5_train = np.load(\"drive/MyDrive/X5_train.npy\")\r\n",
        "X5_test = np.load(\"drive/MyDrive/X5_test.npy\")"
      ],
      "execution_count": 11,
      "outputs": []
    },
    {
      "cell_type": "code",
      "metadata": {
        "id": "AW7h8_r4IVEu"
      },
      "source": [
        "json_file = open(\"drive/MyDrive/model_5.json\", \"r\")\r\n",
        "loaded_model_5_json = json_file.read()\r\n",
        "json_file.close()\r\n",
        "loaded_model_5 = tf.keras.models.model_from_json(loaded_model_5_json)\r\n",
        "model_5 = loaded_model_5.load_weights(\"drive/MyDrive/model_5.h5\")"
      ],
      "execution_count": 20,
      "outputs": []
    },
    {
      "cell_type": "markdown",
      "metadata": {
        "id": "sCrf35fMBZxh"
      },
      "source": [
        "# Prepare Output DataFrame"
      ]
    },
    {
      "cell_type": "code",
      "metadata": {
        "id": "qFSw6cWY2lDp"
      },
      "source": [
        "output = pd.DataFrame({'Valid Date': pd.date_range(start = '2017-12-22', end = '2018-12-20', freq = 'B')})\r\n",
        "output = output[(output['Valid Date'] != '2017-12-25') &\r\n",
        "                (output['Valid Date'] != '2018-01-01') &\r\n",
        "                (output['Valid Date'] != '2018-01-15') &\r\n",
        "                (output['Valid Date'] != '2018-02-19') &\r\n",
        "                (output['Valid Date'] != '2018-05-28') &\r\n",
        "                (output['Valid Date'] != '2018-07-04') &\r\n",
        "                (output['Valid Date'] != '2018-09-03') &\r\n",
        "                (output['Valid Date'] != '2018-11-12') &\r\n",
        "                (output['Valid Date'] != '2018-11-22')]"
      ],
      "execution_count": 5,
      "outputs": []
    },
    {
      "cell_type": "code",
      "metadata": {
        "id": "dSAQPj9NAvUI"
      },
      "source": [
        ""
      ],
      "execution_count": null,
      "outputs": []
    },
    {
      "cell_type": "code",
      "metadata": {
        "id": "wtwqrhRuIS9S"
      },
      "source": [
        ""
      ],
      "execution_count": null,
      "outputs": []
    }
  ]
}