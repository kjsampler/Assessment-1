{
  "nbformat": 4,
  "nbformat_minor": 0,
  "metadata": {
    "colab": {
      "name": "Multivariate Prediction Function.ipynb",
      "provenance": [],
      "authorship_tag": "ABX9TyNWjEjOLE0IFHcHBY/+S51/",
      "include_colab_link": true
    },
    "kernelspec": {
      "name": "python3",
      "display_name": "Python 3"
    }
  },
  "cells": [
    {
      "cell_type": "markdown",
      "metadata": {
        "id": "view-in-github",
        "colab_type": "text"
      },
      "source": [
        "<a href=\"https://colab.research.google.com/github/kjsampler/Assessment-1/blob/master/Multivariate_Prediction_Function.ipynb\" target=\"_parent\"><img src=\"https://colab.research.google.com/assets/colab-badge.svg\" alt=\"Open In Colab\"/></a>"
      ]
    },
    {
      "cell_type": "markdown",
      "metadata": {
        "id": "hbr7W3qD2uWz"
      },
      "source": [
        "Rather than clutter another notebook, I've decided to show the process of writing the multivariate prediction function in its own seperate notebook. This will allow for more organization and a better ability to explain the process. "
      ]
    },
    {
      "cell_type": "code",
      "metadata": {
        "id": "XKll2VX9AzFJ"
      },
      "source": [
        "import pandas as pd\n",
        "import warnings\n",
        "warnings.filterwarnings('ignore')\n",
        "import matplotlib.pyplot as plt\n",
        "%matplotlib inline\n",
        "import seaborn as sns\n",
        "from pandas.plotting import table\n",
        "from sklearn.preprocessing import MinMaxScaler\n",
        "from sklearn.model_selection import train_test_split\n",
        "import time\n",
        "import datetime\n",
        "from sklearn.metrics import mean_squared_error\n",
        "from keras.models import Sequential, load_model\n",
        "from keras.layers import Dense, LSTM, Dropout\n",
        "import numpy as np\n",
        "import tensorflow as tf"
      ],
      "execution_count": 1,
      "outputs": []
    },
    {
      "cell_type": "markdown",
      "metadata": {
        "id": "rEvx9gHWBUgJ"
      },
      "source": [
        "# Import Data and Format"
      ]
    },
    {
      "cell_type": "code",
      "metadata": {
        "colab": {
          "base_uri": "https://localhost:8080/"
        },
        "id": "ai7_cJj6BDC8",
        "outputId": "330d4555-1537-4409-f23d-e5fdb1ec057d"
      },
      "source": [
        "from google.colab import drive\n",
        "drive.mount('/content/drive')"
      ],
      "execution_count": 2,
      "outputs": [
        {
          "output_type": "stream",
          "text": [
            "Mounted at /content/drive\n"
          ],
          "name": "stdout"
        }
      ]
    },
    {
      "cell_type": "code",
      "metadata": {
        "id": "nRz6f3jW9UcW"
      },
      "source": [
        "breed = pd.read_csv('drive/MyDrive/breed_daily_totals.csv')\n",
        "breed = breed.set_index('ValidDate')"
      ],
      "execution_count": 3,
      "outputs": []
    },
    {
      "cell_type": "code",
      "metadata": {
        "id": "RLmItmyHBEk-"
      },
      "source": [
        "X5_train = np.load(\"drive/MyDrive/X5_train.npy\")\n",
        "X5_test = np.load(\"drive/MyDrive/X5_test.npy\")"
      ],
      "execution_count": 4,
      "outputs": []
    },
    {
      "cell_type": "code",
      "metadata": {
        "id": "AW7h8_r4IVEu"
      },
      "source": [
        "model_5 = tf.keras.models.load_model('drive/MyDrive/model_5')"
      ],
      "execution_count": 5,
      "outputs": []
    },
    {
      "cell_type": "code",
      "metadata": {
        "id": "iKjO3FrMo7MT"
      },
      "source": [
        "X_train = np.load(\"drive/MyDrive/X_train.npy\")\n",
        "X_test = np.load(\"drive/MyDrive/X_test.npy\")"
      ],
      "execution_count": 6,
      "outputs": []
    },
    {
      "cell_type": "code",
      "metadata": {
        "id": "LQYQUeP1rmRV"
      },
      "source": [
        "y_train = np.load(\"drive/MyDrive/y_train.npy\")\n",
        "y_test = np.load(\"drive/MyDrive/y_test.npy\")"
      ],
      "execution_count": 7,
      "outputs": []
    },
    {
      "cell_type": "markdown",
      "metadata": {
        "id": "sCrf35fMBZxh"
      },
      "source": [
        "# Prepare Output DataFrame"
      ]
    },
    {
      "cell_type": "code",
      "metadata": {
        "id": "qFSw6cWY2lDp"
      },
      "source": [
        "output = pd.DataFrame({'Valid Date': pd.date_range(start = '2017-12-22', end = '2018-12-20', freq = 'B')})\n",
        "output = output[(output['Valid Date'] != '2017-12-25') &\n",
        "                (output['Valid Date'] != '2018-01-01') &\n",
        "                (output['Valid Date'] != '2018-01-15') &\n",
        "                (output['Valid Date'] != '2018-02-19') &\n",
        "                (output['Valid Date'] != '2018-05-28') &\n",
        "                (output['Valid Date'] != '2018-07-04') &\n",
        "                (output['Valid Date'] != '2018-09-03') &\n",
        "                (output['Valid Date'] != '2018-11-12') &\n",
        "                (output['Valid Date'] != '2018-11-22')]"
      ],
      "execution_count": 8,
      "outputs": []
    },
    {
      "cell_type": "markdown",
      "metadata": {
        "id": "jK1rQvOXomfc"
      },
      "source": [
        "Attempt using predict_values function from univariate model"
      ]
    },
    {
      "cell_type": "code",
      "metadata": {
        "id": "dSAQPj9NAvUI"
      },
      "source": [
        "def predict_values(training_data, output):\n",
        "  ''' A function that takes in training data and uses a tuned LSTM neural \n",
        "  network to recursively predict data for a given number of steps.\n",
        "\n",
        "  Inputs: training_data: The last 5 points of the models training set\n",
        "    output: user provided dataframe formatted with a desired time period to be predicted\n",
        "    as a pd.TimeStamp \n",
        "  Returns: The output parameter with a scaled prediction and unscaled prediction column \n",
        "  appended'''\n",
        "\n",
        "  predictions = []\n",
        "  predictions.append(training_data)\n",
        "  x_array = np.array(predictions)\n",
        "  #ammend function to intake number of input variables\n",
        "  x_array = x_array.reshape(1, 5, 1)\n",
        "#Generate predictions\n",
        "  model = model_5\n",
        "  for n in range(len(output)):\n",
        "    pred = model.predict(x_array)\n",
        "    x_array = np.append(x_array, pred)\n",
        "    predictions.append(pred)\n",
        "\n",
        "    x_array = x_array[-5:].reshape(1, 5, 1)\n",
        "\n",
        "#Add predictions to output df, unlist the values\n",
        "  predictions = predictions[1:]\n",
        "  pred_list = []\n",
        "  for n in range(len(output)):\n",
        "    pred_list.append(predictions[n].tolist())\n",
        "\n",
        "  unlisted = []\n",
        "  for n in range(len(pred_list)):\n",
        "    var = pred_list[n]\n",
        "    var = var[0]\n",
        "    unlisted.append(var)\n",
        "\n",
        "  output['Scaled Prediction'] = unlisted\n",
        "\n",
        "#Unscale predicted value\n",
        "  unlisted_array = np.array(unlisted)\n",
        "  unlisted_array = unlisted_array.reshape(-1, 1)\n",
        "  output['Predicted Value'] = scaler.inverse_transform(unlisted_array)\n",
        "\n",
        "  return output"
      ],
      "execution_count": 9,
      "outputs": []
    },
    {
      "cell_type": "code",
      "metadata": {
        "id": "wtwqrhRuIS9S",
        "colab": {
          "base_uri": "https://localhost:8080/",
          "height": 282
        },
        "outputId": "e6bc25c4-2830-452e-a84a-d4fc064bae8f"
      },
      "source": [
        "year_one = predict_values(X5_train[-5:], output)"
      ],
      "execution_count": 10,
      "outputs": [
        {
          "output_type": "error",
          "ename": "ValueError",
          "evalue": "ignored",
          "traceback": [
            "\u001b[0;31m---------------------------------------------------------------------------\u001b[0m",
            "\u001b[0;31mValueError\u001b[0m                                Traceback (most recent call last)",
            "\u001b[0;32m<ipython-input-10-bad138c4c5a4>\u001b[0m in \u001b[0;36m<module>\u001b[0;34m()\u001b[0m\n\u001b[0;32m----> 1\u001b[0;31m \u001b[0myear_one\u001b[0m \u001b[0;34m=\u001b[0m \u001b[0mpredict_values\u001b[0m\u001b[0;34m(\u001b[0m\u001b[0mX5_train\u001b[0m\u001b[0;34m[\u001b[0m\u001b[0;34m-\u001b[0m\u001b[0;36m5\u001b[0m\u001b[0;34m:\u001b[0m\u001b[0;34m]\u001b[0m\u001b[0;34m,\u001b[0m \u001b[0moutput\u001b[0m\u001b[0;34m)\u001b[0m\u001b[0;34m\u001b[0m\u001b[0;34m\u001b[0m\u001b[0m\n\u001b[0m",
            "\u001b[0;32m<ipython-input-9-e5f24b95433b>\u001b[0m in \u001b[0;36mpredict_values\u001b[0;34m(training_data, output)\u001b[0m\n\u001b[1;32m     13\u001b[0m   \u001b[0mx_array\u001b[0m \u001b[0;34m=\u001b[0m \u001b[0mnp\u001b[0m\u001b[0;34m.\u001b[0m\u001b[0marray\u001b[0m\u001b[0;34m(\u001b[0m\u001b[0mpredictions\u001b[0m\u001b[0;34m)\u001b[0m\u001b[0;34m\u001b[0m\u001b[0;34m\u001b[0m\u001b[0m\n\u001b[1;32m     14\u001b[0m   \u001b[0;31m#ammend function to intake number of input variables\u001b[0m\u001b[0;34m\u001b[0m\u001b[0;34m\u001b[0m\u001b[0;34m\u001b[0m\u001b[0m\n\u001b[0;32m---> 15\u001b[0;31m   \u001b[0mx_array\u001b[0m \u001b[0;34m=\u001b[0m \u001b[0mx_array\u001b[0m\u001b[0;34m.\u001b[0m\u001b[0mreshape\u001b[0m\u001b[0;34m(\u001b[0m\u001b[0;36m1\u001b[0m\u001b[0;34m,\u001b[0m \u001b[0;36m5\u001b[0m\u001b[0;34m,\u001b[0m \u001b[0;36m1\u001b[0m\u001b[0;34m)\u001b[0m\u001b[0;34m\u001b[0m\u001b[0;34m\u001b[0m\u001b[0m\n\u001b[0m\u001b[1;32m     16\u001b[0m \u001b[0;31m#Generate predictions\u001b[0m\u001b[0;34m\u001b[0m\u001b[0;34m\u001b[0m\u001b[0;34m\u001b[0m\u001b[0m\n\u001b[1;32m     17\u001b[0m   \u001b[0mmodel\u001b[0m \u001b[0;34m=\u001b[0m \u001b[0mmodel_5\u001b[0m\u001b[0;34m\u001b[0m\u001b[0;34m\u001b[0m\u001b[0m\n",
            "\u001b[0;31mValueError\u001b[0m: cannot reshape array of size 275 into shape (1,5,1)"
          ]
        }
      ]
    },
    {
      "cell_type": "markdown",
      "metadata": {
        "id": "WpB-tccGz4hC"
      },
      "source": [
        "So the issue is that in a univariate model, i could just take the last 5 data points, and each point was a unique entry. Now, the last 5 points would correlate all to the same variable, so i need to figure out how to grab the last point from var1, var2 etc"
      ]
    },
    {
      "cell_type": "markdown",
      "metadata": {
        "id": "9eMtvBez0FHJ"
      },
      "source": [
        "I just need to use the same data from the last experiment, and just amend it to 10 features, but not 5 lags.  "
      ]
    },
    {
      "cell_type": "code",
      "metadata": {
        "colab": {
          "base_uri": "https://localhost:8080/"
        },
        "id": "klEr8nEio2kL",
        "outputId": "4d518515-e1ad-4f76-ee75-e847f14ca320"
      },
      "source": [
        "X_train.shape"
      ],
      "execution_count": 11,
      "outputs": [
        {
          "output_type": "execute_result",
          "data": {
            "text/plain": [
              "(727, 1, 10)"
            ]
          },
          "metadata": {
            "tags": []
          },
          "execution_count": 11
        }
      ]
    },
    {
      "cell_type": "code",
      "metadata": {
        "id": "qq7U3DqHo4fT"
      },
      "source": [
        "X_train = X_train.reshape(727,10)"
      ],
      "execution_count": 12,
      "outputs": []
    },
    {
      "cell_type": "code",
      "metadata": {
        "colab": {
          "base_uri": "https://localhost:8080/",
          "height": 204
        },
        "id": "XY_MG1nLpiUL",
        "outputId": "359b02ce-3da3-4487-c454-c19524cda957"
      },
      "source": [
        "train_df = pd.DataFrame(X_train)\n",
        "train_df.head()"
      ],
      "execution_count": 13,
      "outputs": [
        {
          "output_type": "execute_result",
          "data": {
            "text/html": [
              "<div>\n",
              "<style scoped>\n",
              "    .dataframe tbody tr th:only-of-type {\n",
              "        vertical-align: middle;\n",
              "    }\n",
              "\n",
              "    .dataframe tbody tr th {\n",
              "        vertical-align: top;\n",
              "    }\n",
              "\n",
              "    .dataframe thead th {\n",
              "        text-align: right;\n",
              "    }\n",
              "</style>\n",
              "<table border=\"1\" class=\"dataframe\">\n",
              "  <thead>\n",
              "    <tr style=\"text-align: right;\">\n",
              "      <th></th>\n",
              "      <th>0</th>\n",
              "      <th>1</th>\n",
              "      <th>2</th>\n",
              "      <th>3</th>\n",
              "      <th>4</th>\n",
              "      <th>5</th>\n",
              "      <th>6</th>\n",
              "      <th>7</th>\n",
              "      <th>8</th>\n",
              "      <th>9</th>\n",
              "    </tr>\n",
              "  </thead>\n",
              "  <tbody>\n",
              "    <tr>\n",
              "      <th>0</th>\n",
              "      <td>0.054054</td>\n",
              "      <td>0.014493</td>\n",
              "      <td>0.050360</td>\n",
              "      <td>0.011628</td>\n",
              "      <td>0.008475</td>\n",
              "      <td>0.007812</td>\n",
              "      <td>0.008909</td>\n",
              "      <td>0.013959</td>\n",
              "      <td>0.020513</td>\n",
              "      <td>0.000000</td>\n",
              "    </tr>\n",
              "    <tr>\n",
              "      <th>1</th>\n",
              "      <td>0.000000</td>\n",
              "      <td>0.000000</td>\n",
              "      <td>0.000000</td>\n",
              "      <td>0.000000</td>\n",
              "      <td>0.000000</td>\n",
              "      <td>0.000000</td>\n",
              "      <td>0.000000</td>\n",
              "      <td>0.000000</td>\n",
              "      <td>0.000000</td>\n",
              "      <td>0.000000</td>\n",
              "    </tr>\n",
              "    <tr>\n",
              "      <th>2</th>\n",
              "      <td>0.009009</td>\n",
              "      <td>0.009662</td>\n",
              "      <td>0.000000</td>\n",
              "      <td>0.000000</td>\n",
              "      <td>0.000000</td>\n",
              "      <td>0.000000</td>\n",
              "      <td>0.004454</td>\n",
              "      <td>0.001269</td>\n",
              "      <td>0.000000</td>\n",
              "      <td>0.000000</td>\n",
              "    </tr>\n",
              "    <tr>\n",
              "      <th>3</th>\n",
              "      <td>0.072072</td>\n",
              "      <td>0.033816</td>\n",
              "      <td>0.007194</td>\n",
              "      <td>0.040698</td>\n",
              "      <td>0.033898</td>\n",
              "      <td>0.031250</td>\n",
              "      <td>0.044543</td>\n",
              "      <td>0.036802</td>\n",
              "      <td>0.025641</td>\n",
              "      <td>0.006579</td>\n",
              "    </tr>\n",
              "    <tr>\n",
              "      <th>4</th>\n",
              "      <td>0.000000</td>\n",
              "      <td>0.000000</td>\n",
              "      <td>0.000000</td>\n",
              "      <td>0.000000</td>\n",
              "      <td>0.000000</td>\n",
              "      <td>0.000000</td>\n",
              "      <td>0.000000</td>\n",
              "      <td>0.000000</td>\n",
              "      <td>0.000000</td>\n",
              "      <td>0.000000</td>\n",
              "    </tr>\n",
              "  </tbody>\n",
              "</table>\n",
              "</div>"
            ],
            "text/plain": [
              "          0         1         2  ...         7         8         9\n",
              "0  0.054054  0.014493  0.050360  ...  0.013959  0.020513  0.000000\n",
              "1  0.000000  0.000000  0.000000  ...  0.000000  0.000000  0.000000\n",
              "2  0.009009  0.009662  0.000000  ...  0.001269  0.000000  0.000000\n",
              "3  0.072072  0.033816  0.007194  ...  0.036802  0.025641  0.006579\n",
              "4  0.000000  0.000000  0.000000  ...  0.000000  0.000000  0.000000\n",
              "\n",
              "[5 rows x 10 columns]"
            ]
          },
          "metadata": {
            "tags": []
          },
          "execution_count": 13
        }
      ]
    },
    {
      "cell_type": "code",
      "metadata": {
        "id": "ll7baePkpkjL"
      },
      "source": [
        "#now we are getting somewhere. now i know how to call the data\n",
        "#I just need to adjust the function to take in multiple values\n",
        "#10 vars work together to produce the target\n",
        "#it would appear that predict actually DOES want 11 inputs."
      ],
      "execution_count": 14,
      "outputs": []
    },
    {
      "cell_type": "code",
      "metadata": {
        "id": "KOTpiKQOppE7"
      },
      "source": [
        "#X = 10 features\n",
        "#y = 1 target\n",
        "#i need to predict on the last 5 rows of train_df\n",
        "#without a target\n",
        "#I'm predicting the target"
      ],
      "execution_count": 15,
      "outputs": []
    },
    {
      "cell_type": "code",
      "metadata": {
        "colab": {
          "base_uri": "https://localhost:8080/",
          "height": 204
        },
        "id": "qIlnyPefprCr",
        "outputId": "8595b16c-32ec-4fa9-e6f4-7d65b215e1d6"
      },
      "source": [
        "train_df.head()\n",
        "#there's 10 vars, we need to add the target for the 11th input"
      ],
      "execution_count": 16,
      "outputs": [
        {
          "output_type": "execute_result",
          "data": {
            "text/html": [
              "<div>\n",
              "<style scoped>\n",
              "    .dataframe tbody tr th:only-of-type {\n",
              "        vertical-align: middle;\n",
              "    }\n",
              "\n",
              "    .dataframe tbody tr th {\n",
              "        vertical-align: top;\n",
              "    }\n",
              "\n",
              "    .dataframe thead th {\n",
              "        text-align: right;\n",
              "    }\n",
              "</style>\n",
              "<table border=\"1\" class=\"dataframe\">\n",
              "  <thead>\n",
              "    <tr style=\"text-align: right;\">\n",
              "      <th></th>\n",
              "      <th>0</th>\n",
              "      <th>1</th>\n",
              "      <th>2</th>\n",
              "      <th>3</th>\n",
              "      <th>4</th>\n",
              "      <th>5</th>\n",
              "      <th>6</th>\n",
              "      <th>7</th>\n",
              "      <th>8</th>\n",
              "      <th>9</th>\n",
              "    </tr>\n",
              "  </thead>\n",
              "  <tbody>\n",
              "    <tr>\n",
              "      <th>0</th>\n",
              "      <td>0.054054</td>\n",
              "      <td>0.014493</td>\n",
              "      <td>0.050360</td>\n",
              "      <td>0.011628</td>\n",
              "      <td>0.008475</td>\n",
              "      <td>0.007812</td>\n",
              "      <td>0.008909</td>\n",
              "      <td>0.013959</td>\n",
              "      <td>0.020513</td>\n",
              "      <td>0.000000</td>\n",
              "    </tr>\n",
              "    <tr>\n",
              "      <th>1</th>\n",
              "      <td>0.000000</td>\n",
              "      <td>0.000000</td>\n",
              "      <td>0.000000</td>\n",
              "      <td>0.000000</td>\n",
              "      <td>0.000000</td>\n",
              "      <td>0.000000</td>\n",
              "      <td>0.000000</td>\n",
              "      <td>0.000000</td>\n",
              "      <td>0.000000</td>\n",
              "      <td>0.000000</td>\n",
              "    </tr>\n",
              "    <tr>\n",
              "      <th>2</th>\n",
              "      <td>0.009009</td>\n",
              "      <td>0.009662</td>\n",
              "      <td>0.000000</td>\n",
              "      <td>0.000000</td>\n",
              "      <td>0.000000</td>\n",
              "      <td>0.000000</td>\n",
              "      <td>0.004454</td>\n",
              "      <td>0.001269</td>\n",
              "      <td>0.000000</td>\n",
              "      <td>0.000000</td>\n",
              "    </tr>\n",
              "    <tr>\n",
              "      <th>3</th>\n",
              "      <td>0.072072</td>\n",
              "      <td>0.033816</td>\n",
              "      <td>0.007194</td>\n",
              "      <td>0.040698</td>\n",
              "      <td>0.033898</td>\n",
              "      <td>0.031250</td>\n",
              "      <td>0.044543</td>\n",
              "      <td>0.036802</td>\n",
              "      <td>0.025641</td>\n",
              "      <td>0.006579</td>\n",
              "    </tr>\n",
              "    <tr>\n",
              "      <th>4</th>\n",
              "      <td>0.000000</td>\n",
              "      <td>0.000000</td>\n",
              "      <td>0.000000</td>\n",
              "      <td>0.000000</td>\n",
              "      <td>0.000000</td>\n",
              "      <td>0.000000</td>\n",
              "      <td>0.000000</td>\n",
              "      <td>0.000000</td>\n",
              "      <td>0.000000</td>\n",
              "      <td>0.000000</td>\n",
              "    </tr>\n",
              "  </tbody>\n",
              "</table>\n",
              "</div>"
            ],
            "text/plain": [
              "          0         1         2  ...         7         8         9\n",
              "0  0.054054  0.014493  0.050360  ...  0.013959  0.020513  0.000000\n",
              "1  0.000000  0.000000  0.000000  ...  0.000000  0.000000  0.000000\n",
              "2  0.009009  0.009662  0.000000  ...  0.001269  0.000000  0.000000\n",
              "3  0.072072  0.033816  0.007194  ...  0.036802  0.025641  0.006579\n",
              "4  0.000000  0.000000  0.000000  ...  0.000000  0.000000  0.000000\n",
              "\n",
              "[5 rows x 10 columns]"
            ]
          },
          "metadata": {
            "tags": []
          },
          "execution_count": 16
        }
      ]
    },
    {
      "cell_type": "code",
      "metadata": {
        "colab": {
          "base_uri": "https://localhost:8080/",
          "height": 204
        },
        "id": "SSXpFxsZpy1L",
        "outputId": "f418d757-843a-48fd-af12-4fe330da7846"
      },
      "source": [
        "y_train_df = pd.DataFrame(y_train)\n",
        "train_df['Target'] = y_train_df\n",
        "train_df.head()"
      ],
      "execution_count": 17,
      "outputs": [
        {
          "output_type": "execute_result",
          "data": {
            "text/html": [
              "<div>\n",
              "<style scoped>\n",
              "    .dataframe tbody tr th:only-of-type {\n",
              "        vertical-align: middle;\n",
              "    }\n",
              "\n",
              "    .dataframe tbody tr th {\n",
              "        vertical-align: top;\n",
              "    }\n",
              "\n",
              "    .dataframe thead th {\n",
              "        text-align: right;\n",
              "    }\n",
              "</style>\n",
              "<table border=\"1\" class=\"dataframe\">\n",
              "  <thead>\n",
              "    <tr style=\"text-align: right;\">\n",
              "      <th></th>\n",
              "      <th>0</th>\n",
              "      <th>1</th>\n",
              "      <th>2</th>\n",
              "      <th>3</th>\n",
              "      <th>4</th>\n",
              "      <th>5</th>\n",
              "      <th>6</th>\n",
              "      <th>7</th>\n",
              "      <th>8</th>\n",
              "      <th>9</th>\n",
              "      <th>Target</th>\n",
              "    </tr>\n",
              "  </thead>\n",
              "  <tbody>\n",
              "    <tr>\n",
              "      <th>0</th>\n",
              "      <td>0.054054</td>\n",
              "      <td>0.014493</td>\n",
              "      <td>0.050360</td>\n",
              "      <td>0.011628</td>\n",
              "      <td>0.008475</td>\n",
              "      <td>0.007812</td>\n",
              "      <td>0.008909</td>\n",
              "      <td>0.013959</td>\n",
              "      <td>0.020513</td>\n",
              "      <td>0.000000</td>\n",
              "      <td>0.014834</td>\n",
              "    </tr>\n",
              "    <tr>\n",
              "      <th>1</th>\n",
              "      <td>0.000000</td>\n",
              "      <td>0.000000</td>\n",
              "      <td>0.000000</td>\n",
              "      <td>0.000000</td>\n",
              "      <td>0.000000</td>\n",
              "      <td>0.000000</td>\n",
              "      <td>0.000000</td>\n",
              "      <td>0.000000</td>\n",
              "      <td>0.000000</td>\n",
              "      <td>0.000000</td>\n",
              "      <td>0.000000</td>\n",
              "    </tr>\n",
              "    <tr>\n",
              "      <th>2</th>\n",
              "      <td>0.009009</td>\n",
              "      <td>0.009662</td>\n",
              "      <td>0.000000</td>\n",
              "      <td>0.000000</td>\n",
              "      <td>0.000000</td>\n",
              "      <td>0.000000</td>\n",
              "      <td>0.004454</td>\n",
              "      <td>0.001269</td>\n",
              "      <td>0.000000</td>\n",
              "      <td>0.000000</td>\n",
              "      <td>0.000362</td>\n",
              "    </tr>\n",
              "    <tr>\n",
              "      <th>3</th>\n",
              "      <td>0.072072</td>\n",
              "      <td>0.033816</td>\n",
              "      <td>0.007194</td>\n",
              "      <td>0.040698</td>\n",
              "      <td>0.033898</td>\n",
              "      <td>0.031250</td>\n",
              "      <td>0.044543</td>\n",
              "      <td>0.036802</td>\n",
              "      <td>0.025641</td>\n",
              "      <td>0.006579</td>\n",
              "      <td>0.039074</td>\n",
              "    </tr>\n",
              "    <tr>\n",
              "      <th>4</th>\n",
              "      <td>0.000000</td>\n",
              "      <td>0.000000</td>\n",
              "      <td>0.000000</td>\n",
              "      <td>0.000000</td>\n",
              "      <td>0.000000</td>\n",
              "      <td>0.000000</td>\n",
              "      <td>0.000000</td>\n",
              "      <td>0.000000</td>\n",
              "      <td>0.000000</td>\n",
              "      <td>0.000000</td>\n",
              "      <td>0.000000</td>\n",
              "    </tr>\n",
              "  </tbody>\n",
              "</table>\n",
              "</div>"
            ],
            "text/plain": [
              "          0         1         2  ...         8         9    Target\n",
              "0  0.054054  0.014493  0.050360  ...  0.020513  0.000000  0.014834\n",
              "1  0.000000  0.000000  0.000000  ...  0.000000  0.000000  0.000000\n",
              "2  0.009009  0.009662  0.000000  ...  0.000000  0.000000  0.000362\n",
              "3  0.072072  0.033816  0.007194  ...  0.025641  0.006579  0.039074\n",
              "4  0.000000  0.000000  0.000000  ...  0.000000  0.000000  0.000000\n",
              "\n",
              "[5 rows x 11 columns]"
            ]
          },
          "metadata": {
            "tags": []
          },
          "execution_count": 17
        }
      ]
    },
    {
      "cell_type": "code",
      "metadata": {
        "colab": {
          "base_uri": "https://localhost:8080/"
        },
        "id": "GylcFbfrpzcb",
        "outputId": "3035ef01-e150-4b51-c7a6-b67f2d647615"
      },
      "source": [
        "predict_array = train_df[-5:].values\n",
        "predict_array"
      ],
      "execution_count": 18,
      "outputs": [
        {
          "output_type": "execute_result",
          "data": {
            "text/plain": [
              "array([[0.0990991 , 0.01449275, 0.02158273, 0.05232558, 0.01271186,\n",
              "        0.05208333, 0.02672606, 0.02411168, 0.02051282, 0.02631579,\n",
              "        0.02858177],\n",
              "       [0.14414414, 0.04830918, 0.05035971, 0.06395349, 0.02542373,\n",
              "        0.04947917, 0.03563474, 0.02918782, 0.03589744, 0.01973684,\n",
              "        0.07091172],\n",
              "       [0.00900901, 0.        , 0.        , 0.01162791, 0.        ,\n",
              "        0.01041667, 0.00890869, 0.00380711, 0.00512821, 0.        ,\n",
              "        0.00144718],\n",
              "       [0.11711712, 0.09178744, 0.13669065, 0.09883721, 0.04237288,\n",
              "        0.0390625 , 0.04231626, 0.03553299, 0.03589744, 0.05263158,\n",
              "        0.03111433],\n",
              "       [0.        , 0.        , 0.        , 0.        , 0.        ,\n",
              "        0.        , 0.        , 0.        , 0.        , 0.        ,\n",
              "        0.        ]])"
            ]
          },
          "metadata": {
            "tags": []
          },
          "execution_count": 18
        }
      ]
    },
    {
      "cell_type": "code",
      "metadata": {
        "colab": {
          "base_uri": "https://localhost:8080/"
        },
        "id": "fvEUUEsWr3Z9",
        "outputId": "04ca22e5-a448-48d9-fbb3-64cd2e2b8510"
      },
      "source": [
        "predict_array.shape"
      ],
      "execution_count": 19,
      "outputs": [
        {
          "output_type": "execute_result",
          "data": {
            "text/plain": [
              "(5, 11)"
            ]
          },
          "metadata": {
            "tags": []
          },
          "execution_count": 19
        }
      ]
    },
    {
      "cell_type": "code",
      "metadata": {
        "id": "1UGs8IHKr5yt"
      },
      "source": [
        "predict_array = predict_array.reshape(1,5,11)"
      ],
      "execution_count": 20,
      "outputs": []
    },
    {
      "cell_type": "code",
      "metadata": {
        "id": "pkE8dZtur76l"
      },
      "source": [
        "model = model_5\n",
        "for n in range(len(output)):\n",
        "  pred = model.predict(predict_array)"
      ],
      "execution_count": 21,
      "outputs": []
    },
    {
      "cell_type": "code",
      "metadata": {
        "colab": {
          "base_uri": "https://localhost:8080/"
        },
        "id": "zI6F82Z0sC_F",
        "outputId": "3ef7a6e7-1660-4f25-9bd0-7b74d3a938ce"
      },
      "source": [
        "print(pred)"
      ],
      "execution_count": 22,
      "outputs": [
        {
          "output_type": "stream",
          "text": [
            "[[0.02981024]]\n"
          ],
          "name": "stdout"
        }
      ]
    },
    {
      "cell_type": "code",
      "metadata": {
        "id": "Lw9XLLT9sUKn"
      },
      "source": [
        "#okay. I got pred to run, now I just need to reconcile\n",
        "#what exactly the output is telling me, and how to use it\n",
        "#changing input shape to (1, 5, 11) gives me 1 pred"
      ],
      "execution_count": 23,
      "outputs": []
    },
    {
      "cell_type": "markdown",
      "metadata": {
        "id": "Gw_kCdMUvPrf"
      },
      "source": [
        "In the original function, I set x_array = the last 5 of the training data. Just vanilla targets, no predictive factors involved  \n",
        "The issue here is that the model will not accept only targets, it needs the 10 predictors (vars) as well  \n",
        "Meaning that if my model is shaped to only spit out one predicted target, it still needs predictions on the vars as well?  \n",
        "If I create a new line in the data frame, it will only have a value in \"target\", not in vars. And in order to predict the next line, I need it to have all 11 columns filled out.  \n",
        "So how am i going to fill in those vars? My initial thought is to generate a prediction for each target as well. (If I dispense 4 yorkie licenses today, my model needs to predict how many yorkie, plus all other breed, licenses will be dispensed tomorrow, in order to properly make a \"target\" prediction.  \n",
        "I am considering starting this function from scratch at this point- I think what worked for the univariate model may not fit with the multivariate model. "
      ]
    },
    {
      "cell_type": "markdown",
      "metadata": {
        "id": "di_rv9z1vTbH"
      },
      "source": [
        "1. explore how model intakes and outputs data\n",
        "2. decide on shape of \"predictions\"\n",
        "3. amend original function from there"
      ]
    },
    {
      "cell_type": "code",
      "metadata": {
        "colab": {
          "base_uri": "https://localhost:8080/"
        },
        "id": "BzORueevvSS2",
        "outputId": "d730a3c0-0f1d-47e1-ad54-ced3bb3de65a"
      },
      "source": [
        "X5_train.shape"
      ],
      "execution_count": 24,
      "outputs": [
        {
          "output_type": "execute_result",
          "data": {
            "text/plain": [
              "(724, 5, 11)"
            ]
          },
          "metadata": {
            "tags": []
          },
          "execution_count": 24
        }
      ]
    },
    {
      "cell_type": "code",
      "metadata": {
        "colab": {
          "base_uri": "https://localhost:8080/"
        },
        "id": "GrFnvl_JvFqI",
        "outputId": "8420baf9-52f0-4a69-aa57-22987e2d4e03"
      },
      "source": [
        "predict_array.shape"
      ],
      "execution_count": 25,
      "outputs": [
        {
          "output_type": "execute_result",
          "data": {
            "text/plain": [
              "(1, 5, 11)"
            ]
          },
          "metadata": {
            "tags": []
          },
          "execution_count": 25
        }
      ]
    },
    {
      "cell_type": "code",
      "metadata": {
        "colab": {
          "base_uri": "https://localhost:8080/"
        },
        "id": "a0KHe8cbvRRP",
        "outputId": "8d0f76f9-294d-44b7-f5fb-9113f19885e9"
      },
      "source": [
        "exp = X5_train[0]\n",
        "print(exp.shape)\n",
        "print(exp)"
      ],
      "execution_count": 26,
      "outputs": [
        {
          "output_type": "stream",
          "text": [
            "(5, 11)\n",
            "[[0.         0.00483092 0.02158273 0.01744186 0.00423729 0.0078125\n",
            "  0.00890869 0.00507614 0.         0.         0.0068741 ]\n",
            " [0.02702703 0.03381643 0.01438849 0.00581395 0.00423729 0.02604167\n",
            "  0.0155902  0.00761421 0.01025641 0.03289474 0.01591896]\n",
            " [0.00900901 0.         0.         0.         0.         0.\n",
            "  0.         0.         0.         0.         0.00036179]\n",
            " [0.         0.         0.         0.         0.         0.\n",
            "  0.         0.         0.         0.         0.        ]\n",
            " [0.00900901 0.00483092 0.00719424 0.00581395 0.00423729 0.00260417\n",
            "  0.00445434 0.00761421 0.00512821 0.00657895 0.00578871]]\n"
          ],
          "name": "stdout"
        }
      ]
    },
    {
      "cell_type": "code",
      "metadata": {
        "colab": {
          "base_uri": "https://localhost:8080/"
        },
        "id": "AMoP-_tZvctd",
        "outputId": "2cabe7b4-15e8-40e6-a43f-c9db87279064"
      },
      "source": [
        "len(X5_train)"
      ],
      "execution_count": 27,
      "outputs": [
        {
          "output_type": "execute_result",
          "data": {
            "text/plain": [
              "724"
            ]
          },
          "metadata": {
            "tags": []
          },
          "execution_count": 27
        }
      ]
    },
    {
      "cell_type": "code",
      "metadata": {
        "id": "T2z44WSQve7f"
      },
      "source": [
        "#the model is actually training on 5*11*724 data points-  \n",
        "#each \"point\" is an array of 5*11  \n",
        "#5 lags, 11 features"
      ],
      "execution_count": 28,
      "outputs": []
    },
    {
      "cell_type": "code",
      "metadata": {
        "id": "1-QkmEpZvg6n"
      },
      "source": [
        "#explore the output of the function better\n",
        "#starting with model.predict"
      ],
      "execution_count": 29,
      "outputs": []
    },
    {
      "cell_type": "code",
      "metadata": {
        "colab": {
          "base_uri": "https://localhost:8080/"
        },
        "id": "uKOKrz7evin_",
        "outputId": "92ae816e-18d4-490a-a3d3-50dc4029705a"
      },
      "source": [
        "#predict_array[0] = 1, meaning I currently only have 1 row in there\n",
        "print(predict_array.shape)\n",
        "print(predict_array)"
      ],
      "execution_count": 30,
      "outputs": [
        {
          "output_type": "stream",
          "text": [
            "(1, 5, 11)\n",
            "[[[0.0990991  0.01449275 0.02158273 0.05232558 0.01271186 0.05208333\n",
            "   0.02672606 0.02411168 0.02051282 0.02631579 0.02858177]\n",
            "  [0.14414414 0.04830918 0.05035971 0.06395349 0.02542373 0.04947917\n",
            "   0.03563474 0.02918782 0.03589744 0.01973684 0.07091172]\n",
            "  [0.00900901 0.         0.         0.01162791 0.         0.01041667\n",
            "   0.00890869 0.00380711 0.00512821 0.         0.00144718]\n",
            "  [0.11711712 0.09178744 0.13669065 0.09883721 0.04237288 0.0390625\n",
            "   0.04231626 0.03553299 0.03589744 0.05263158 0.03111433]\n",
            "  [0.         0.         0.         0.         0.         0.\n",
            "   0.         0.         0.         0.         0.        ]]]\n"
          ],
          "name": "stdout"
        }
      ]
    },
    {
      "cell_type": "code",
      "metadata": {
        "id": "yRqCZxCIvkaX"
      },
      "source": [
        "#no wait... I have a mismatch. I have 5 rows with 11 columns each. \n",
        "#The issue is that in X_train (which predict_array was taken from)\n",
        "#does NOT have 5 lags. Meaning my shape doesn't match the model"
      ],
      "execution_count": 31,
      "outputs": []
    },
    {
      "cell_type": "code",
      "metadata": {
        "id": "7AFuag3mvmyX"
      },
      "source": [
        "#Now I have to decide: \n",
        "#Get rid of the lags\n",
        "#or figure how to accurately pull the data with 5 lags\n",
        "#eventually both, of course"
      ],
      "execution_count": 32,
      "outputs": []
    },
    {
      "cell_type": "code",
      "metadata": {
        "id": "3UkoZ_mpvoc3"
      },
      "source": [
        "#compare accuracy with 5 lags vs. 1 lag\n",
        "#if small, go ahead and run function with one lag\n",
        "# we don't need to reinvent the wheel here"
      ],
      "execution_count": 33,
      "outputs": []
    },
    {
      "cell_type": "code",
      "metadata": {
        "colab": {
          "base_uri": "https://localhost:8080/"
        },
        "id": "m2zK5l0RvqLf",
        "outputId": "dca9ba9b-5af7-4442-fc77-a659601147c9"
      },
      "source": [
        "X_train = X_train.reshape((X_train.shape[0], 1, 10))\n",
        "X_test = X_test.reshape((X_test.shape[0], 1, 10))\n",
        "print(X_train.shape)\n",
        "print(X_test.shape)"
      ],
      "execution_count": 34,
      "outputs": [
        {
          "output_type": "stream",
          "text": [
            "(727, 1, 10)\n",
            "(312, 1, 10)\n"
          ],
          "name": "stdout"
        }
      ]
    },
    {
      "cell_type": "code",
      "metadata": {
        "colab": {
          "base_uri": "https://localhost:8080/"
        },
        "id": "r5eIj6mzvr8f",
        "outputId": "4db311a4-ff97-4a93-d766-d483e554d860"
      },
      "source": [
        "now = datetime.datetime.now()\n",
        "model_1 = Sequential()\n",
        "model_1.add(LSTM(50, input_shape = (X_train.shape[1], X_train.shape[2])))\n",
        "model_1.add(Dense(50, activation = 'tanh'))\n",
        "model_1.add(Dropout(0.3))\n",
        "model_1.add(Dense(35, activation = 'tanh'))\n",
        "model_1.add(Dropout(0.3))\n",
        "model_1.add(Dense(20, activation = 'tanh'))\n",
        "model_1.add(Dropout(0.3))\n",
        "model_1.add(Dense(1))\n",
        "model_1.compile(loss = 'mse', optimizer = 'adam', metrics = ['mse'])\n",
        "\n",
        "history_1 = model_1.fit(X_train, y_train, epochs = 10, batch_size = 20, validation_data = (X_test, y_test),\n",
        "                        verbose = True, shuffle = False)"
      ],
      "execution_count": 35,
      "outputs": [
        {
          "output_type": "stream",
          "text": [
            "Epoch 1/10\n",
            "37/37 [==============================] - 3s 21ms/step - loss: 0.0073 - mse: 0.0073 - val_loss: 0.0079 - val_mse: 0.0079\n",
            "Epoch 2/10\n",
            "37/37 [==============================] - 0s 5ms/step - loss: 0.0061 - mse: 0.0061 - val_loss: 0.0098 - val_mse: 0.0098\n",
            "Epoch 3/10\n",
            "37/37 [==============================] - 0s 5ms/step - loss: 0.0068 - mse: 0.0068 - val_loss: 0.0088 - val_mse: 0.0088\n",
            "Epoch 4/10\n",
            "37/37 [==============================] - 0s 5ms/step - loss: 0.0056 - mse: 0.0056 - val_loss: 0.0078 - val_mse: 0.0078\n",
            "Epoch 5/10\n",
            "37/37 [==============================] - 0s 6ms/step - loss: 0.0048 - mse: 0.0048 - val_loss: 0.0080 - val_mse: 0.0080\n",
            "Epoch 6/10\n",
            "37/37 [==============================] - 0s 6ms/step - loss: 0.0046 - mse: 0.0046 - val_loss: 0.0081 - val_mse: 0.0081\n",
            "Epoch 7/10\n",
            "37/37 [==============================] - 0s 5ms/step - loss: 0.0056 - mse: 0.0056 - val_loss: 0.0086 - val_mse: 0.0086\n",
            "Epoch 8/10\n",
            "37/37 [==============================] - 0s 5ms/step - loss: 0.0055 - mse: 0.0055 - val_loss: 0.0082 - val_mse: 0.0082\n",
            "Epoch 9/10\n",
            "37/37 [==============================] - 0s 5ms/step - loss: 0.0051 - mse: 0.0051 - val_loss: 0.0077 - val_mse: 0.0077\n",
            "Epoch 10/10\n",
            "37/37 [==============================] - 0s 5ms/step - loss: 0.0051 - mse: 0.0051 - val_loss: 0.0085 - val_mse: 0.0085\n"
          ],
          "name": "stdout"
        }
      ]
    },
    {
      "cell_type": "code",
      "metadata": {
        "id": "Y8a8IXaWv74-"
      },
      "source": [
        "scaler = MinMaxScaler()\n",
        "sample = scaler.fit_transform(breed.values)"
      ],
      "execution_count": 36,
      "outputs": []
    },
    {
      "cell_type": "code",
      "metadata": {
        "colab": {
          "base_uri": "https://localhost:8080/"
        },
        "id": "2X5Uc3W8vu0X",
        "outputId": "e776fb5d-ea24-4238-dd53-01b5211b693a"
      },
      "source": [
        "#67.19\n",
        "#making predictions \n",
        "yhat = model_1.predict(X_test)\n",
        "X_test = X_test.reshape((X_test.shape[0], 10))\n",
        "inv_yhat = np.concatenate((yhat, X_test[:, -10:]), axis = 1)\n",
        "inv_yhat = scaler.inverse_transform(inv_yhat)\n",
        "inv_yhat = inv_yhat[:, 0]\n",
        "\n",
        "y_test = y_test.reshape((len(y_test), 1))\n",
        "inv_y = np.concatenate((y_test, X_test[:, -10:]), axis = 1)\n",
        "inv_y = scaler.inverse_transform(inv_y)\n",
        "inv_y = inv_y[:, 0]\n",
        "\n",
        "mse = mean_squared_error(inv_y, inv_yhat)\n",
        "print('MSE of prediction: ', np.round(mse, 2))"
      ],
      "execution_count": 37,
      "outputs": [
        {
          "output_type": "stream",
          "text": [
            "MSE of prediction:  105.32\n"
          ],
          "name": "stdout"
        }
      ]
    },
    {
      "cell_type": "code",
      "metadata": {
        "id": "Jk2DdqNKvypH"
      },
      "source": [
        "#quite a lot larger\n",
        "#let's get the function running on 1 lag\n",
        "#then we can go back and worry about multiples"
      ],
      "execution_count": 38,
      "outputs": []
    },
    {
      "cell_type": "code",
      "metadata": {
        "colab": {
          "base_uri": "https://localhost:8080/"
        },
        "id": "9S6VEKQe_rDR",
        "outputId": "6e23e214-21e4-4338-f500-69dd1b5e5923"
      },
      "source": [
        "predict_array = train_df[-5:].values\n",
        "predict_array.shape"
      ],
      "execution_count": 39,
      "outputs": [
        {
          "output_type": "execute_result",
          "data": {
            "text/plain": [
              "(5, 11)"
            ]
          },
          "metadata": {
            "tags": []
          },
          "execution_count": 39
        }
      ]
    },
    {
      "cell_type": "code",
      "metadata": {
        "id": "0KUFPr9H_tYX"
      },
      "source": [
        "training_data = predict_array"
      ],
      "execution_count": 40,
      "outputs": []
    },
    {
      "cell_type": "code",
      "metadata": {
        "colab": {
          "base_uri": "https://localhost:8080/",
          "height": 282
        },
        "id": "IoEwtbuP_whW",
        "outputId": "6a48b130-f6fd-436f-815e-7198511ca68d"
      },
      "source": [
        "predict_values(training_data, output)"
      ],
      "execution_count": 41,
      "outputs": [
        {
          "output_type": "error",
          "ename": "ValueError",
          "evalue": "ignored",
          "traceback": [
            "\u001b[0;31m---------------------------------------------------------------------------\u001b[0m",
            "\u001b[0;31mValueError\u001b[0m                                Traceback (most recent call last)",
            "\u001b[0;32m<ipython-input-41-240df0f48d6e>\u001b[0m in \u001b[0;36m<module>\u001b[0;34m()\u001b[0m\n\u001b[0;32m----> 1\u001b[0;31m \u001b[0mpredict_values\u001b[0m\u001b[0;34m(\u001b[0m\u001b[0mtraining_data\u001b[0m\u001b[0;34m,\u001b[0m \u001b[0moutput\u001b[0m\u001b[0;34m)\u001b[0m\u001b[0;34m\u001b[0m\u001b[0;34m\u001b[0m\u001b[0m\n\u001b[0m",
            "\u001b[0;32m<ipython-input-9-e5f24b95433b>\u001b[0m in \u001b[0;36mpredict_values\u001b[0;34m(training_data, output)\u001b[0m\n\u001b[1;32m     13\u001b[0m   \u001b[0mx_array\u001b[0m \u001b[0;34m=\u001b[0m \u001b[0mnp\u001b[0m\u001b[0;34m.\u001b[0m\u001b[0marray\u001b[0m\u001b[0;34m(\u001b[0m\u001b[0mpredictions\u001b[0m\u001b[0;34m)\u001b[0m\u001b[0;34m\u001b[0m\u001b[0;34m\u001b[0m\u001b[0m\n\u001b[1;32m     14\u001b[0m   \u001b[0;31m#ammend function to intake number of input variables\u001b[0m\u001b[0;34m\u001b[0m\u001b[0;34m\u001b[0m\u001b[0;34m\u001b[0m\u001b[0m\n\u001b[0;32m---> 15\u001b[0;31m   \u001b[0mx_array\u001b[0m \u001b[0;34m=\u001b[0m \u001b[0mx_array\u001b[0m\u001b[0;34m.\u001b[0m\u001b[0mreshape\u001b[0m\u001b[0;34m(\u001b[0m\u001b[0;36m1\u001b[0m\u001b[0;34m,\u001b[0m \u001b[0;36m5\u001b[0m\u001b[0;34m,\u001b[0m \u001b[0;36m1\u001b[0m\u001b[0;34m)\u001b[0m\u001b[0;34m\u001b[0m\u001b[0;34m\u001b[0m\u001b[0m\n\u001b[0m\u001b[1;32m     16\u001b[0m \u001b[0;31m#Generate predictions\u001b[0m\u001b[0;34m\u001b[0m\u001b[0;34m\u001b[0m\u001b[0;34m\u001b[0m\u001b[0m\n\u001b[1;32m     17\u001b[0m   \u001b[0mmodel\u001b[0m \u001b[0;34m=\u001b[0m \u001b[0mmodel_5\u001b[0m\u001b[0;34m\u001b[0m\u001b[0;34m\u001b[0m\u001b[0m\n",
            "\u001b[0;31mValueError\u001b[0m: cannot reshape array of size 55 into shape (1,5,1)"
          ]
        }
      ]
    },
    {
      "cell_type": "code",
      "metadata": {
        "id": "_lselj0W_yq-"
      },
      "source": [
        "training_data = training_data.reshape(1,5,11)\n",
        "model = model_1\n",
        "for n in range(len(output)):\n",
        "  pred = model.predict(training_data)\n",
        "  training_data = np.append(training_data,pred)\n",
        "  predictions.append(pred)\n",
        "\n",
        "  training_data = training_data[-5:].reshape(1, 5, 11)\n",
        "print(pred)"
      ],
      "execution_count": null,
      "outputs": []
    },
    {
      "cell_type": "code",
      "metadata": {
        "id": "RV9N3hEg_5Ie"
      },
      "source": [
        "#model_1 expects 10 inputs\n",
        "#so I'm going to remove the target column"
      ],
      "execution_count": null,
      "outputs": []
    },
    {
      "cell_type": "code",
      "metadata": {
        "id": "exq8CE4B_8uH"
      },
      "source": [
        "train_df = train_df.drop('Target', axis = 1)\n",
        "train_df.head()"
      ],
      "execution_count": null,
      "outputs": []
    },
    {
      "cell_type": "code",
      "metadata": {
        "id": "bRHDQJOp__8H"
      },
      "source": [
        "training_data = train_df[-5:].values\n",
        "print(training_data.shape)\n",
        "print(training_data)"
      ],
      "execution_count": null,
      "outputs": []
    },
    {
      "cell_type": "code",
      "metadata": {
        "id": "-BmxT_7XACHf"
      },
      "source": [
        "training_data = training_data.reshape(1, 5, 10)\n",
        "pred = model.predict(training_data)\n",
        "print(pred)"
      ],
      "execution_count": null,
      "outputs": []
    },
    {
      "cell_type": "code",
      "metadata": {
        "id": "w29NceKDAF0H"
      },
      "source": [
        "#the 51 comes because the model is making 1 pred\n",
        "#i can append it to a 'target' list\n",
        "#but i don't know that it will help me make predictions"
      ],
      "execution_count": null,
      "outputs": []
    },
    {
      "cell_type": "code",
      "metadata": {
        "id": "YXrQ_rCUAIAX"
      },
      "source": [
        "#i am beginning to think that the multivariate may not be capable of forecasting-\n",
        "#it forecasts based on the vars info\n",
        "#without that, it loses it's 'smartness'\n",
        "#so short of making a prediction for each var, then predicting off that\n",
        "#i'm not sure that this will work"
      ],
      "execution_count": null,
      "outputs": []
    },
    {
      "cell_type": "code",
      "metadata": {
        "id": "sV-tTW_VBQb_"
      },
      "source": [
        "#clean up notebook\n",
        "#paragraph thought process"
      ],
      "execution_count": null,
      "outputs": []
    }
  ]
}